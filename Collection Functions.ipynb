{
 "cells": [
  {
   "cell_type": "markdown",
   "metadata": {},
   "source": [
    "Higher order functions - functions that can take in another function as an arguement.\n",
    "\n",
    "* map\n",
    "* filter\n",
    "* reduce\n",
    "* reversed\n",
    "* sorted\n"
   ]
  },
  {
   "cell_type": "markdown",
   "metadata": {},
   "source": [
    "# Maps\n",
    "\n",
    "f(x) = 1 + x  \n",
    "returns a new collection where a copy of every element in the original collection is subject to a transformation.\n",
    "length of original list is equivalent to the length of the new list."
   ]
  },
  {
   "cell_type": "code",
   "execution_count": 1,
   "metadata": {},
   "outputs": [
    {
     "name": "stdout",
     "output_type": "stream",
     "text": [
      "[2, 4, 6, 8, 10]\n"
     ]
    }
   ],
   "source": [
    "domain = [1, 2, 3, 4, 5]\n",
    "\n",
    "# f(x) = x * 2\n",
    "\n",
    "our_range = map(lambda num: num * 2, domain)\n",
    "print(list(our_range))"
   ]
  },
  {
   "cell_type": "markdown",
   "metadata": {},
   "source": [
    "# Filter\n",
    "\n",
    "f(x) = 1 + x  \n",
    "returns a new collection where with values from the original list if they meet a certain criteria. \n",
    "length of original list probably won't be equivalent to the length of the new list."
   ]
  },
  {
   "cell_type": "code",
   "execution_count": 2,
   "metadata": {},
   "outputs": [
    {
     "name": "stdout",
     "output_type": "stream",
     "text": [
      "[2, 4]\n"
     ]
    }
   ],
   "source": [
    "evens = filter(lambda num: num % 2 == 0, domain)\n",
    "print(list(evens))"
   ]
  },
  {
   "cell_type": "markdown",
   "metadata": {},
   "source": [
    "# Reduce\n",
    "\n",
    "2 arguments, an accumulator and the individual value of each value of the index.\n",
    "iterable \n"
   ]
  },
  {
   "cell_type": "code",
   "execution_count": 6,
   "metadata": {},
   "outputs": [
    {
     "name": "stdout",
     "output_type": "stream",
     "text": [
      "15\n"
     ]
    }
   ],
   "source": [
    "from functools import reduce\n",
    "\n",
    "the_sum = reduce(lambda acc, num: acc + num, domain, 0)\n",
    "print(the_sum)"
   ]
  },
  {
   "cell_type": "markdown",
   "metadata": {},
   "source": [
    "# Sorted\n",
    "\n",
    "With a lambda key\n"
   ]
  },
  {
   "cell_type": "code",
   "execution_count": 11,
   "metadata": {},
   "outputs": [
    {
     "name": "stdout",
     "output_type": "stream",
     "text": [
      "Sorting by default\n",
      "['Alfred', 'Boss', 'Daemon', 'a', 'dig', 'fig']\n",
      "\n",
      "Sorting with a lambda key\n",
      "['a', 'Alfred', 'Boss', 'Daemon', 'dig', 'fig']\n",
      "\n",
      "Sorting with a method\n",
      "['a', 'Alfred', 'Boss', 'Daemon', 'dig', 'fig']\n"
     ]
    }
   ],
   "source": [
    "words = ['Boss', 'a', 'Alfred', 'fig', 'Daemon', 'dig']\n",
    "print(\"Sorting by default\")\n",
    "print(sorted(words))\n",
    "\n",
    "print(\"\\nSorting with a lambda key\")\n",
    "print(sorted(words, key=lambda s: s.lower()))\n",
    "\n",
    "print(\"\\nSorting with a method\")\n",
    "words.sort(key=str.lower)\n",
    "print(words)"
   ]
  },
  {
   "cell_type": "markdown",
   "metadata": {},
   "source": [
    "Lecture: Using Collection Functions 13.54"
   ]
  },
  {
   "cell_type": "code",
   "execution_count": null,
   "metadata": {},
   "outputs": [],
   "source": []
  },
  {
   "cell_type": "code",
   "execution_count": null,
   "metadata": {},
   "outputs": [],
   "source": []
  },
  {
   "cell_type": "code",
   "execution_count": null,
   "metadata": {},
   "outputs": [],
   "source": []
  },
  {
   "cell_type": "code",
   "execution_count": null,
   "metadata": {},
   "outputs": [],
   "source": []
  }
 ],
 "metadata": {
  "kernelspec": {
   "display_name": "Python 3",
   "language": "python",
   "name": "python3"
  },
  "language_info": {
   "codemirror_mode": {
    "name": "ipython",
    "version": 3
   },
   "file_extension": ".py",
   "mimetype": "text/x-python",
   "name": "python",
   "nbconvert_exporter": "python",
   "pygments_lexer": "ipython3",
   "version": "3.8.5"
  }
 },
 "nbformat": 4,
 "nbformat_minor": 4
}
