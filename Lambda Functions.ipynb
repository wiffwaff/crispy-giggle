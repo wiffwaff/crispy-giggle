{
 "cells": [
  {
   "cell_type": "markdown",
   "metadata": {},
   "source": [
    "<a id='top_of_page'>Top</a>\n",
    "# Python Lambda Functions\n"
   ]
  },
  {
   "cell_type": "markdown",
   "metadata": {},
   "source": [
    "\n",
    "\n",
    "[Python LAMBDA Functions Explained 17:17](https://www.youtube.com/watch?v=Ob9rY6PQMfI&ab_channel=JoeJames)\n",
    "\n",
    "* one line functions\n",
    "* anonymous functions\n",
    "* expression is what is returned\n",
    "\n",
    "\n",
    " **lambda     arguments:      expression**\n",
    "\n",
    "\n",
    "lambda space arguments colon space experession\n",
    "    \n",
    "---"
   ]
  },
  {
   "cell_type": "code",
   "execution_count": 2,
   "metadata": {},
   "outputs": [
    {
     "name": "stdout",
     "output_type": "stream",
     "text": [
      "12\n"
     ]
    }
   ],
   "source": [
    "add5 = lambda x: x+5\n",
    "print(add5(7))"
   ]
  },
  {
   "cell_type": "code",
   "execution_count": 5,
   "metadata": {},
   "outputs": [
    {
     "name": "stdout",
     "output_type": "stream",
     "text": [
      "64\n"
     ]
    }
   ],
   "source": [
    "square = lambda x: x * x\n",
    "print(square(8))"
   ]
  },
  {
   "cell_type": "code",
   "execution_count": 6,
   "metadata": {},
   "outputs": [
    {
     "name": "stdout",
     "output_type": "stream",
     "text": [
      "4\n",
      "3\n"
     ]
    }
   ],
   "source": [
    "get_tens = lambda p: int(p/10)%10\n",
    "print(get_tens(749))\n",
    "print(get_tens(836.21))"
   ]
  },
  {
   "cell_type": "markdown",
   "metadata": {},
   "source": [
    "**Lambdas as an argument in other functions**\n",
    "\n",
    "One of the most popular uses for lambda functions is as an argument inside sort, or filter functions.\n",
    "\n",
    "\n",
    "#### Sorting a List of Tuples using Lambda"
   ]
  },
  {
   "cell_type": "code",
   "execution_count": 8,
   "metadata": {},
   "outputs": [
    {
     "name": "stdout",
     "output_type": "stream",
     "text": [
      "[('carrots', 1.1), ('peaches', 2.45), ('eggs', 5.25), ('honey', 9.7)]\n"
     ]
    }
   ],
   "source": [
    "list1 = [('eggs', 5.25), ('honey', 9.70), ('carrots', 1.10), ('peaches', 2.45)]\n",
    "list1.sort(key = lambda x: x[1])\n",
    "print(list1) # sorted by price."
   ]
  },
  {
   "cell_type": "markdown",
   "metadata": {},
   "source": [
    "#### Sorting a List of Dictionaries using Lambda\n"
   ]
  },
  {
   "cell_type": "code",
   "execution_count": 6,
   "metadata": {},
   "outputs": [
    {
     "name": "stdout",
     "output_type": "stream",
     "text": [
      "[{'make': 'Tesla', 'model': 'X', 'year': 1999},\n",
      " {'make': 'Mercedes', 'model': 'C350E', 'year': 2008},\n",
      " {'make': 'Ford', 'model': 'Focus', 'year': 2013}]\n"
     ]
    }
   ],
   "source": [
    "import pprint as pp\n",
    "list1 = [{'make':'Ford', 'model':'Focus', 'year':2013}, {'make':'Tesla', 'model':'X', 'year':1999}, {'make':'Mercedes', 'model':'C350E', 'year':2008}]\n",
    "list2 = sorted(list1, key = lambda x: x['year'])\n",
    "pp.pprint(list2)"
   ]
  },
  {
   "cell_type": "markdown",
   "metadata": {},
   "source": [
    "#### Filtering a List of Integers using Lambda"
   ]
  },
  {
   "cell_type": "code",
   "execution_count": 7,
   "metadata": {},
   "outputs": [
    {
     "name": "stdout",
     "output_type": "stream",
     "text": [
      "[2, 4, 6]\n"
     ]
    }
   ],
   "source": [
    "list1 = [1, 2, 3, 4, 5, 6]\n",
    "list2 = list(filter(lambda x: x%2 == 0, list1))\n",
    "print(list2)"
   ]
  },
  {
   "cell_type": "code",
   "execution_count": 8,
   "metadata": {},
   "outputs": [
    {
     "name": "stdout",
     "output_type": "stream",
     "text": [
      "[1, 3, 5]\n"
     ]
    }
   ],
   "source": [
    "odds = lambda x: x%2 == 1\n",
    "list1 = [1, 2, 3, 4, 5, 6]\n",
    "list2 = list(filter(odds, list1))\n",
    "print(list2)\n"
   ]
  },
  {
   "cell_type": "markdown",
   "metadata": {},
   "source": [
    "#### Lambda Function on a List using Map\n",
    "Python's map function applies the lambda to every element in the list."
   ]
  },
  {
   "cell_type": "code",
   "execution_count": 9,
   "metadata": {},
   "outputs": [
    {
     "name": "stdout",
     "output_type": "stream",
     "text": [
      "[1, 4, 9, 16, 25, 36]\n"
     ]
    }
   ],
   "source": [
    "list1 = [1, 2, 3, 4, 5, 6]\n",
    "list2 = list(map(lambda x: x ** 2, list1))\n",
    "print(list2)"
   ]
  },
  {
   "cell_type": "markdown",
   "metadata": {},
   "source": [
    "#### Lambda Conditionals\n",
    "lambda args: a if boolean_expression else b"
   ]
  },
  {
   "cell_type": "code",
   "execution_count": 10,
   "metadata": {},
   "outputs": [
    {
     "name": "stdout",
     "output_type": "stream",
     "text": [
      "True\n"
     ]
    }
   ],
   "source": [
    "starts_with_J = lambda x: True if x.startswith('J') else False\n",
    "print(starts_with_J('Joey'))"
   ]
  },
  {
   "cell_type": "code",
   "execution_count": 19,
   "metadata": {},
   "outputs": [
    {
     "name": "stdout",
     "output_type": "stream",
     "text": [
      "and\n",
      "None\n"
     ]
    }
   ],
   "source": [
    "wordb4 = lambda s, w: s.split()[s.split().index(w)-1] if w in s else None\n",
    "sentence = 'Four score and seven years ago'\n",
    "print(wordb4(sentence, 'seven'))\n",
    "print(wordb4(sentence, 'Aubery'))\n"
   ]
  },
  {
   "cell_type": "markdown",
   "metadata": {},
   "source": [
    "###### Just some working out for above"
   ]
  },
  {
   "cell_type": "code",
   "execution_count": 21,
   "metadata": {},
   "outputs": [
    {
     "name": "stdout",
     "output_type": "stream",
     "text": [
      "4\n"
     ]
    },
    {
     "data": {
      "text/plain": [
       "'and'"
      ]
     },
     "execution_count": 21,
     "metadata": {},
     "output_type": "execute_result"
    }
   ],
   "source": [
    "\n",
    "sentence = 'This is a sentence and I do not want to know what it is about. Should have used double quotes.'\n",
    "num = sentence.split().index('and')\n",
    "print(num)\n",
    "sentence.split()[num]"
   ]
  },
  {
   "cell_type": "markdown",
   "metadata": {},
   "source": [
    "# Lambdas on DateTime Objects\n",
    "You sometimes want to get just the year, month, date or time for comparison. \n",
    "\n",
    "This would typically be most useful as a parameter in sort or filter functions."
   ]
  },
  {
   "cell_type": "code",
   "execution_count": 32,
   "metadata": {},
   "outputs": [
    {
     "name": "stdout",
     "output_type": "stream",
     "text": [
      "now = 2021-03-10 18:17:04.682718\n",
      "year(now) = 2021\n",
      "now.year = 2021\n"
     ]
    }
   ],
   "source": [
    "import datetime\n",
    "now = datetime.datetime.now()\n",
    "print(f\"now = {now}\")\n",
    "year = lambda x: x.year\n",
    "print(f\"year(now) = {year(now)}\")\n",
    "\n",
    "# although you could have just asked it to return now.year, but this was just for demonstration purposes.\n",
    "print(f'now.year = {now.year}')"
   ]
  },
  {
   "cell_type": "code",
   "execution_count": 33,
   "metadata": {},
   "outputs": [
    {
     "name": "stdout",
     "output_type": "stream",
     "text": [
      "4096\n",
      "125\n"
     ]
    }
   ],
   "source": [
    "def do_something(f,val):\n",
    "    return f(val)\n",
    "\n",
    "func = lambda x: x**3\n",
    "print(func(16))\n",
    " \n",
    "print(do_something(func, 5))"
   ]
  },
  {
   "cell_type": "markdown",
   "metadata": {},
   "source": [
    "# Extreme Lambdas\n",
    "This is probably a stretch -- you shouldn't be trying to do this much with Lambdas.\n",
    "\n",
    "Some things are better done in a regular function. But this shows what's possible with Lambdas."
   ]
  },
  {
   "cell_type": "code",
   "execution_count": 34,
   "metadata": {},
   "outputs": [
    {
     "name": "stdout",
     "output_type": "stream",
     "text": [
      "True\n",
      "True\n",
      "False\n",
      "False\n"
     ]
    }
   ],
   "source": [
    "isnum = lambda q: q.replace('.','',1).isdigit()\n",
    "print(isnum('25983'))\n",
    "print(isnum('3.1415'))\n",
    "print(isnum('T57'))\n",
    "print(isnum('-16'))\n",
    "\n"
   ]
  },
  {
   "cell_type": "markdown",
   "metadata": {},
   "source": [
    "**Above doesn't deal with negative numbers, hence**"
   ]
  },
  {
   "cell_type": "code",
   "execution_count": 36,
   "metadata": {},
   "outputs": [
    {
     "name": "stdout",
     "output_type": "stream",
     "text": [
      "True\n"
     ]
    }
   ],
   "source": [
    "is_num = lambda r: isnum(r[1:]) if r[0]=='-' else isnum(r)\n",
    "print(is_num('-16.4'))"
   ]
  },
  {
   "cell_type": "code",
   "execution_count": 37,
   "metadata": {},
   "outputs": [
    {
     "name": "stdout",
     "output_type": "stream",
     "text": [
      "-1\n",
      "-21.67 <class 'float'>\n"
     ]
    }
   ],
   "source": [
    "tonum = lambda s: float(s) if is_num(s) else -1 ### -1 is used to represent false, or not a number.\n",
    "print(tonum('30y'))\n",
    "print(tonum('-21.67'), type(tonum('-21.67')))"
   ]
  },
  {
   "cell_type": "markdown",
   "metadata": {},
   "source": [
    "[This is an example and goes to the top of the page.'](#top_of_page)"
   ]
  },
  {
   "cell_type": "markdown",
   "metadata": {},
   "source": [
    "# Examples"
   ]
  },
  {
   "cell_type": "code",
   "execution_count": 40,
   "metadata": {},
   "outputs": [
    {
     "name": "stdout",
     "output_type": "stream",
     "text": [
      "6\n",
      "12\n"
     ]
    }
   ],
   "source": [
    "which_is_greater = lambda x,y: x if x>y else y\n",
    "print(which_is_greater(3,6))\n",
    "print(which_is_greater(12,12))"
   ]
  },
  {
   "cell_type": "code",
   "execution_count": null,
   "metadata": {},
   "outputs": [],
   "source": []
  },
  {
   "cell_type": "code",
   "execution_count": null,
   "metadata": {},
   "outputs": [],
   "source": []
  },
  {
   "cell_type": "code",
   "execution_count": null,
   "metadata": {},
   "outputs": [],
   "source": []
  },
  {
   "cell_type": "code",
   "execution_count": null,
   "metadata": {},
   "outputs": [],
   "source": []
  },
  {
   "cell_type": "code",
   "execution_count": null,
   "metadata": {},
   "outputs": [],
   "source": []
  },
  {
   "cell_type": "code",
   "execution_count": null,
   "metadata": {},
   "outputs": [],
   "source": []
  },
  {
   "cell_type": "code",
   "execution_count": null,
   "metadata": {},
   "outputs": [],
   "source": []
  },
  {
   "cell_type": "code",
   "execution_count": null,
   "metadata": {},
   "outputs": [],
   "source": []
  },
  {
   "cell_type": "code",
   "execution_count": null,
   "metadata": {},
   "outputs": [],
   "source": []
  },
  {
   "cell_type": "markdown",
   "metadata": {},
   "source": [
    "[This is an example and goes to the top of the page.'](#top_of_page)"
   ]
  }
 ],
 "metadata": {
  "kernelspec": {
   "display_name": "Python 3",
   "language": "python",
   "name": "python3"
  },
  "language_info": {
   "codemirror_mode": {
    "name": "ipython",
    "version": 3
   },
   "file_extension": ".py",
   "mimetype": "text/x-python",
   "name": "python",
   "nbconvert_exporter": "python",
   "pygments_lexer": "ipython3",
   "version": "3.8.5"
  }
 },
 "nbformat": 4,
 "nbformat_minor": 4
}
