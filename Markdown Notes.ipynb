{
 "cells": [
  {
   "cell_type": "markdown",
   "metadata": {},
   "source": [
    "# Markdown\n",
    "\n",
    "---\n",
    "\n",
    "[Great **Markdown** tutorial - click here](https://youtu.be/6ATDaLTQm6A)\n",
    "\n",
    "---\n",
    "\n",
    "*italics*\n",
    "\n",
    "**bold**\n",
    "\n",
    "***bold and italicised***\n",
    "\n",
    "<font color='green'>**This is coloured green and bold**</font>\n",
    "\n",
    "<u>underline</u>\n",
    "\n",
    "\n",
    "```python\n",
    "\n",
    "a = 3\n",
    "if a >= 5:\n",
    "    print(\"greater than or equal to  5\")\n",
    "else:\n",
    "    print(\"less than 5\")\n",
    "```\n",
    "\n",
    "> This is a quote, started with a '> '    <---- note the space after the chevron\n",
    "> \n",
    "> Another bit of quote text\n",
    "\n",
    "\n",
    "\n",
    "\n",
    "\n",
    "\n",
    "\n",
    "\n",
    "\n",
    "\n",
    "\n",
    "\n"
   ]
  },
  {
   "cell_type": "markdown",
   "metadata": {},
   "source": [
    "# Jupyter Themes\n",
    "---\n",
    "\n",
    "[how to use](https://stackoverflow.com/questions/46510192/change-the-theme-in-jupyter-notebook)\n",
    "\n",
    "\n",
    "conda install -c conda-forge jupyterthemes\n",
    "\n",
    "list of themes:\n",
    "\n",
    "jt -l\n",
    "<br><br>\n",
    "\n",
    "So change your theme with:\n",
    "\n",
    "jt -t theme-name\n",
    "\n",
    "<br><br>\n",
    "For those who want to restore the original theme, you can do it as follows:\n",
    "\n",
    "jt -r"
   ]
  },
  {
   "cell_type": "code",
   "execution_count": null,
   "metadata": {},
   "outputs": [],
   "source": []
  }
 ],
 "metadata": {
  "kernelspec": {
   "display_name": "Python 3",
   "language": "python",
   "name": "python3"
  },
  "language_info": {
   "codemirror_mode": {
    "name": "ipython",
    "version": 3
   },
   "file_extension": ".py",
   "mimetype": "text/x-python",
   "name": "python",
   "nbconvert_exporter": "python",
   "pygments_lexer": "ipython3",
   "version": "3.8.5"
  }
 },
 "nbformat": 4,
 "nbformat_minor": 4
}
