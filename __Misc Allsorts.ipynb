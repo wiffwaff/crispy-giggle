{
 "cells": [
  {
   "cell_type": "markdown",
   "metadata": {},
   "source": [
    "<br><br><br>\n",
    "Which version of python am I using."
   ]
  },
  {
   "cell_type": "code",
   "execution_count": 1,
   "metadata": {},
   "outputs": [
    {
     "name": "stdout",
     "output_type": "stream",
     "text": [
      "3.8.5\n"
     ]
    }
   ],
   "source": [
    "#trying to figure out which python I happen to be using.\n",
    "# https://stackoverflow.com/questions/40694528/how-to-know-which-python-is-running-in-jupyter-notebook\n",
    "\n",
    "from platform import python_version\n",
    "\n",
    "print(python_version())"
   ]
  },
  {
   "cell_type": "markdown",
   "metadata": {},
   "source": [
    "<br><br><br>\n",
    "Generating 10000 random integers and printing if they occur in a particular subset."
   ]
  },
  {
   "cell_type": "code",
   "execution_count": null,
   "metadata": {},
   "outputs": [],
   "source": [
    "# Generating 10000 random integers and printing if they occur in a particular subset.\n",
    "\n",
    "import random\n",
    "\n",
    "# count = 0 #<- This is redundant\n",
    "for y in range(10000):\n",
    "    x = random.randint(0,1000)\n",
    "    if x in [0,999,1000,1001]:\n",
    "        print(x)\n",
    "# try and get the frequency of each occurence."
   ]
  },
  {
   "cell_type": "markdown",
   "metadata": {},
   "source": [
    "<br><br><br>\n",
    "List Comprehension Example"
   ]
  },
  {
   "cell_type": "code",
   "execution_count": 38,
   "metadata": {},
   "outputs": [
    {
     "name": "stdout",
     "output_type": "stream",
     "text": [
      "[1, 2, 3, 4, 5, 6, 7, 8, 9, 10]\n",
      "[1, 4, 9, 16, 25, 36, 49, 64, 81, 100]\n"
     ]
    }
   ],
   "source": [
    "my_list = list(range(1,11))\n",
    "print(my_list)\n",
    "\n",
    "#Using a list comprehension\n",
    "squares = [num * num for num in my_list]\n",
    "print(squares)"
   ]
  },
  {
   "cell_type": "markdown",
   "metadata": {},
   "source": [
    "<br><br><br>\n",
    "Transfer files from PC to an iPad. What Apple doesn't want you to know!\n",
    "\n",
    "https://www.youtube.com/watch?v=WWJ9Zw_Nb2o&ab_channel=PythonProgrammer\n",
    "\n",
    "Go to the directory you want to download from and issue this command:\n",
    "\n",
    "python -m http.server 8000\n",
    "\n",
    "Then go to the browser on your ipad and got to the ip address of your pc with port 8000 - voila....\n"
   ]
  },
  {
   "cell_type": "markdown",
   "metadata": {},
   "source": [
    "<br><br><br>\n",
    "Creating a list of 70 integers."
   ]
  },
  {
   "cell_type": "code",
   "execution_count": 53,
   "metadata": {},
   "outputs": [
    {
     "name": "stdout",
     "output_type": "stream",
     "text": [
      "[491, 235, 565, 1020, 469, 587, 737, 1296, 834, 1099, 200, 371, 129, 1327, 1385, 1217, 1075, 1157, 315, 53, 1052, 1186, 464, 696, 1118, 1276, 1221, 795, 1063, 232, 376, 704, 1062, 1446, 140, 229, 1003, 83, 454, 1, 3, 904, 1214, 779, 1427, 1217, 420, 396, 820, 631, 1296, 1092, 717, 1348, 1207, 1265, 928, 564, 1350, 250, 152, 305, 218, 110, 864, 689, 22, 233, 199, 1292]\n"
     ]
    }
   ],
   "source": [
    "import random\n",
    "\n",
    "my_list = []\n",
    "for y in range(70):\n",
    "    my_list.append(random.randint(0,1500))\n",
    "    \n",
    "print(my_list)\n",
    "    "
   ]
  },
  {
   "cell_type": "code",
   "execution_count": null,
   "metadata": {},
   "outputs": [],
   "source": []
  }
 ],
 "metadata": {
  "kernelspec": {
   "display_name": "Python 3",
   "language": "python",
   "name": "python3"
  },
  "language_info": {
   "codemirror_mode": {
    "name": "ipython",
    "version": 3
   },
   "file_extension": ".py",
   "mimetype": "text/x-python",
   "name": "python",
   "nbconvert_exporter": "python",
   "pygments_lexer": "ipython3",
   "version": "3.8.5"
  }
 },
 "nbformat": 4,
 "nbformat_minor": 4
}
